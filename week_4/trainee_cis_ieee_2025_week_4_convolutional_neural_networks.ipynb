{
 "cells": [
  {
   "cell_type": "markdown",
   "id": "99cf3cc9",
   "metadata": {},
   "source": [
    "# Week 4 - Convolutional Neural Networks"
   ]
  },
  {
   "cell_type": "markdown",
   "id": "9f887dfa",
   "metadata": {},
   "source": [
    "## Importing libraries and dependencies"
   ]
  },
  {
   "cell_type": "code",
   "execution_count": 36,
   "id": "00cfc37a",
   "metadata": {},
   "outputs": [],
   "source": [
    "import torch\n",
    "import torch.nn as nn\n",
    "import torch.nn.functional as F\n",
    "from torch.utils.data import DataLoader\n",
    "from torchvision.datasets import ImageFolder\n",
    "from torchvision import transforms\n",
    "\n",
    "import matplotlib.pyplot as plt\n",
    "%matplotlib inline"
   ]
  },
  {
   "cell_type": "code",
   "execution_count": 37,
   "id": "ad008570",
   "metadata": {},
   "outputs": [
    {
     "name": "stdout",
     "output_type": "stream",
     "text": [
      "Using device: cuda:0\n"
     ]
    }
   ],
   "source": [
    "# Check if CUDA is available and set the device accordingly\n",
    "device = torch.device(\"cuda:0\" if torch.cuda.is_available() else \"cpu\")\n",
    "print(f\"Using device: {device}\")"
   ]
  },
  {
   "cell_type": "markdown",
   "id": "dc8f642f",
   "metadata": {},
   "source": [
    "## Convert images into Tensors"
   ]
  },
  {
   "cell_type": "code",
   "execution_count": 38,
   "id": "5c43aa78",
   "metadata": {},
   "outputs": [],
   "source": [
    "# For Training Data\n",
    "train_transform = transforms.Compose([\n",
    "    transforms.Resize((64, 64)),\n",
    "    transforms.RandomHorizontalFlip(),\n",
    "    transforms.RandomRotation(degrees=45),\n",
    "    transforms.RandomAutocontrast(),\n",
    "    transforms.ToTensor(),\n",
    "    transforms.Normalize(mean=[0.485, 0.456, 0.406], std=[0.229, 0.224, 0.225]) # ImageNet stats, good default\n",
    "])\n",
    "\n",
    "# For Test/Validation Data\n",
    "test_transform = transforms.Compose([\n",
    "    transforms.Resize((64, 64)),\n",
    "    transforms.ToTensor(),\n",
    "    transforms.Normalize(mean=[0.485, 0.456, 0.406], std=[0.229, 0.224, 0.225]) # Same normalization as training\n",
    "])"
   ]
  },
  {
   "cell_type": "code",
   "execution_count": 39,
   "id": "0d46cc08",
   "metadata": {},
   "outputs": [],
   "source": [
    "train_data = ImageFolder(\n",
    "    \"clouds_dataset/clouds_train\",\n",
    "    transform = train_transform\n",
    ")"
   ]
  },
  {
   "cell_type": "code",
   "execution_count": 40,
   "id": "1fe6fb00",
   "metadata": {},
   "outputs": [
    {
     "data": {
      "text/plain": [
       "Dataset ImageFolder\n",
       "    Number of datapoints: 474\n",
       "    Root location: clouds_dataset/clouds_train\n",
       "    StandardTransform\n",
       "Transform: Compose(\n",
       "               Resize(size=(64, 64), interpolation=bilinear, max_size=None, antialias=True)\n",
       "               RandomHorizontalFlip(p=0.5)\n",
       "               RandomRotation(degrees=[-45.0, 45.0], interpolation=nearest, expand=False, fill=0)\n",
       "               RandomAutocontrast(p=0.5)\n",
       "               ToTensor()\n",
       "               Normalize(mean=[0.485, 0.456, 0.406], std=[0.229, 0.224, 0.225])\n",
       "           )"
      ]
     },
     "execution_count": 40,
     "metadata": {},
     "output_type": "execute_result"
    }
   ],
   "source": [
    "train_data"
   ]
  },
  {
   "cell_type": "code",
   "execution_count": 41,
   "id": "fe802453",
   "metadata": {},
   "outputs": [],
   "source": [
    "test_data = ImageFolder(\n",
    "    \"clouds_dataset/clouds_test\",\n",
    "    transform = test_transform\n",
    ")"
   ]
  },
  {
   "cell_type": "code",
   "execution_count": 42,
   "id": "03ec79e6",
   "metadata": {},
   "outputs": [
    {
     "data": {
      "text/plain": [
       "Dataset ImageFolder\n",
       "    Number of datapoints: 486\n",
       "    Root location: clouds_dataset/clouds_test\n",
       "    StandardTransform\n",
       "Transform: Compose(\n",
       "               Resize(size=(64, 64), interpolation=bilinear, max_size=None, antialias=True)\n",
       "               ToTensor()\n",
       "               Normalize(mean=[0.485, 0.456, 0.406], std=[0.229, 0.224, 0.225])\n",
       "           )"
      ]
     },
     "execution_count": 42,
     "metadata": {},
     "output_type": "execute_result"
    }
   ],
   "source": [
    "test_data"
   ]
  },
  {
   "cell_type": "markdown",
   "id": "01b756ce",
   "metadata": {},
   "source": [
    "## Creating loaders"
   ]
  },
  {
   "cell_type": "code",
   "execution_count": 43,
   "id": "18dc25c1",
   "metadata": {},
   "outputs": [],
   "source": [
    "train_loader = DataLoader(train_data, batch_size=32, shuffle=True)\n",
    "test_loader = DataLoader(test_data, batch_size=32, shuffle=False)"
   ]
  },
  {
   "cell_type": "markdown",
   "id": "a8883e30",
   "metadata": {},
   "source": [
    "## Creating the model class"
   ]
  },
  {
   "cell_type": "code",
   "execution_count": 44,
   "id": "5ee4c451",
   "metadata": {},
   "outputs": [],
   "source": [
    "import torch\n",
    "import torch.nn as nn\n",
    "import torch.nn.functional as F\n",
    "\n",
    "class ConvolutionalNeuralNetwork(nn.Module):\n",
    "    def __init__(self, num_classes):\n",
    "        \"\"\"\n",
    "        Initializes the ConvolutionalNeuralNetwork model.\n",
    "\n",
    "        This CNN is designed for image classification, featuring three convolutional\n",
    "        layers followed by batch normalization, ReLU activation, and max-pooling operations.\n",
    "        It concludes with a fully connected layer (with dropout) for classification.\n",
    "        It expects 64x64 pixel RGB images as input.\n",
    "\n",
    "        Args:\n",
    "            num_classes (int): The number of output classes for the classification task.\n",
    "                               This determines the size of the final fully connected layer's output.\n",
    "        \"\"\"\n",
    "        super().__init__()\n",
    "\n",
    "        # --- First convolutional block ---\n",
    "        # Input channels: 3 (for RGB images)\n",
    "        # Output channels: 32\n",
    "        self.conv1 = nn.Conv2d(in_channels=3, out_channels=32, kernel_size=3, stride=1, padding=1)\n",
    "        # Batch Normalization for the first conv layer's output\n",
    "        self.bn1 = nn.BatchNorm2d(32)\n",
    "\n",
    "        # --- Second convolutional block ---\n",
    "        # Input channels: 32 (output from conv1)\n",
    "        # Output channels: 64\n",
    "        self.conv2 = nn.Conv2d(in_channels=32, out_channels=64, kernel_size=3, stride=1, padding=1)\n",
    "        # Batch Normalization for the second conv layer's output\n",
    "        self.bn2 = nn.BatchNorm2d(64)\n",
    "\n",
    "        # --- Third convolutional block ---\n",
    "        # Input channels: 64 (output from conv2)\n",
    "        # Output channels: 128 (You can choose a different number here, often powers of 2)\n",
    "        self.conv3 = nn.Conv2d(in_channels=64, out_channels=128, kernel_size=3, stride=1, padding=1)\n",
    "        # Batch Normalization for the third conv layer's output\n",
    "        self.bn3 = nn.BatchNorm2d(128)\n",
    "\n",
    "        # --- Fully connected layer ---\n",
    "        # Recalculate the input features for the FC layer:\n",
    "        # Original input image size: 64x64\n",
    "\n",
    "        # After conv1 (3x3 kernel, stride=1, padding=1): size remains 64x64\n",
    "        # After first max_pool2d (kernel=2, stride=2): size becomes 64 / 2 = 32x32\n",
    "\n",
    "        # After conv2 (3x3 kernel, stride=1, padding=1): size remains 32x32\n",
    "        # After second max_pool2d (kernel=2, stride=2): size becomes 32 / 2 = 16x16\n",
    "\n",
    "        # After conv3 (3x3 kernel, stride=1, padding=1): size remains 16x16\n",
    "        # After third max_pool2d (kernel=2, stride=2): size becomes 16 / 2 = 8x8\n",
    "\n",
    "        # The number of input features for fc1 will be:\n",
    "        # final_out_channels_from_conv_block * final_feature_map_width * final_feature_map_height\n",
    "        # In this case: 128 * 8 * 8 = 8192\n",
    "        self.fc1 = nn.Linear(in_features=128 * 8 * 8, out_features=num_classes)\n",
    "\n",
    "        # --- Dropout layer ---\n",
    "        # Helps prevent overfitting by randomly setting a fraction of input units to zero\n",
    "        # during training. Common values are 0.25 to 0.5.\n",
    "        self.dropout = nn.Dropout(0.5)\n",
    "\n",
    "    def forward(self, x):\n",
    "        \"\"\"\n",
    "        Defines the forward pass of the ConvolutionalNeuralNetwork.\n",
    "\n",
    "        Args:\n",
    "            x (torch.Tensor): The input tensor, expected to be of shape\n",
    "                              (batch_size, 3, 64, 64) for RGB images.\n",
    "\n",
    "        Returns:\n",
    "            torch.Tensor: The log-softmax probabilities for each class,\n",
    "                          of shape (batch_size, num_classes).\n",
    "        \"\"\"\n",
    "        # --- First convolutional block ---\n",
    "        # Conv -> BatchNorm -> ReLU -> MaxPool\n",
    "        x = self.conv1(x)\n",
    "        x = self.bn1(x) # Apply Batch Normalization\n",
    "        x = F.relu(x)\n",
    "        x = F.max_pool2d(x, kernel_size=2, stride=2) # Spatial dimensions: 64x64 -> 32x32\n",
    "\n",
    "        # --- Second convolutional block ---\n",
    "        # Conv -> BatchNorm -> ReLU -> MaxPool\n",
    "        x = self.conv2(x)\n",
    "        x = self.bn2(x) # Apply Batch Normalization\n",
    "        x = F.relu(x)\n",
    "        x = F.max_pool2d(x, kernel_size=2, stride=2) # Spatial dimensions: 32x32 -> 16x16\n",
    "\n",
    "        # --- Third convolutional block ---\n",
    "        # Conv -> BatchNorm -> ReLU -> MaxPool\n",
    "        x = self.conv3(x)\n",
    "        x = self.bn3(x) # Apply Batch Normalization\n",
    "        x = F.relu(x)\n",
    "        x = F.max_pool2d(x, kernel_size=2, stride=2) # Spatial dimensions: 16x16 -> 8x8\n",
    "\n",
    "        # Flatten the feature maps into a 1D vector for the fully connected layer.\n",
    "        x = x.view(-1, 128 * 8 * 8)\n",
    "\n",
    "        # Apply Dropout before the final fully connected layer to prevent overfitting.\n",
    "        x = self.dropout(x)\n",
    "\n",
    "        # Apply the fully connected layer to produce raw class scores.\n",
    "        x = self.fc1(x)\n",
    "\n",
    "        # Apply log-softmax to get log-probabilities, typically used with NLLLoss or CrossEntropyLoss.\n",
    "        return F.log_softmax(x, dim=1)"
   ]
  },
  {
   "cell_type": "markdown",
   "id": "7821155b",
   "metadata": {},
   "source": [
    "## Create an instance of the model"
   ]
  },
  {
   "cell_type": "code",
   "execution_count": 45,
   "id": "de6d4eb6",
   "metadata": {},
   "outputs": [
    {
     "name": "stdout",
     "output_type": "stream",
     "text": [
      "Classes found: ['cirriform clouds', 'clear sky', 'cumulonimbus clouds', 'cumulus clouds', 'high cumuliform clouds', 'stratiform clouds', 'stratocumulus clouds']\n",
      "Number of classes: 7\n"
     ]
    }
   ],
   "source": [
    "num_classes = len(train_data.classes)\n",
    "print(f\"Classes found: {train_data.classes}\")\n",
    "print(f\"Number of classes: {num_classes}\")"
   ]
  },
  {
   "cell_type": "code",
   "execution_count": 46,
   "id": "810308d5",
   "metadata": {},
   "outputs": [
    {
     "data": {
      "text/plain": [
       "ConvolutionalNeuralNetwork(\n",
       "  (conv1): Conv2d(3, 32, kernel_size=(3, 3), stride=(1, 1), padding=(1, 1))\n",
       "  (bn1): BatchNorm2d(32, eps=1e-05, momentum=0.1, affine=True, track_running_stats=True)\n",
       "  (conv2): Conv2d(32, 64, kernel_size=(3, 3), stride=(1, 1), padding=(1, 1))\n",
       "  (bn2): BatchNorm2d(64, eps=1e-05, momentum=0.1, affine=True, track_running_stats=True)\n",
       "  (conv3): Conv2d(64, 128, kernel_size=(3, 3), stride=(1, 1), padding=(1, 1))\n",
       "  (bn3): BatchNorm2d(128, eps=1e-05, momentum=0.1, affine=True, track_running_stats=True)\n",
       "  (fc1): Linear(in_features=8192, out_features=7, bias=True)\n",
       "  (dropout): Dropout(p=0.5, inplace=False)\n",
       ")"
      ]
     },
     "execution_count": 46,
     "metadata": {},
     "output_type": "execute_result"
    }
   ],
   "source": [
    "torch.manual_seed(41)\n",
    "model = ConvolutionalNeuralNetwork(num_classes)\n",
    "model.to(device)\n",
    "model"
   ]
  },
  {
   "cell_type": "markdown",
   "id": "8b18f36f",
   "metadata": {},
   "source": [
    "## Define loss function optimizer"
   ]
  },
  {
   "cell_type": "code",
   "execution_count": 47,
   "id": "bfb38c9c",
   "metadata": {},
   "outputs": [],
   "source": [
    "criterion = nn.CrossEntropyLoss()\n",
    "optimizer = torch.optim.Adam(model.parameters(), lr=0.0001)"
   ]
  },
  {
   "cell_type": "markdown",
   "id": "122589b1",
   "metadata": {},
   "source": [
    "## Train and Test"
   ]
  },
  {
   "cell_type": "code",
   "execution_count": 48,
   "id": "d3c509d1",
   "metadata": {},
   "outputs": [
    {
     "name": "stdout",
     "output_type": "stream",
     "text": [
      "Epoch 5/50, Train Loss: 1.4110, Test Loss: 1.1464\n",
      "Epoch 10/50, Train Loss: 0.9342, Test Loss: 0.7628\n",
      "Epoch 15/50, Train Loss: 0.8042, Test Loss: 0.8778\n",
      "Epoch 20/50, Train Loss: 0.6386, Test Loss: 0.8518\n",
      "Epoch 25/50, Train Loss: 0.8868, Test Loss: 0.9915\n",
      "Epoch 30/50, Train Loss: 0.4952, Test Loss: 0.5689\n",
      "Epoch 35/50, Train Loss: 0.8744, Test Loss: 0.5566\n",
      "Epoch 40/50, Train Loss: 0.5224, Test Loss: 0.4132\n",
      "Epoch 45/50, Train Loss: 0.3333, Test Loss: 0.6260\n",
      "Epoch 50/50, Train Loss: 0.5508, Test Loss: 0.2566\n"
     ]
    }
   ],
   "source": [
    "epochs = 50\n",
    "train_losses = []\n",
    "test_losses = []\n",
    "train_correct = []\n",
    "test_correct = []\n",
    "\n",
    "# For loop of epochs\n",
    "for i in range(epochs):\n",
    "    trn_corr = 0\n",
    "    tst_corr = 0\n",
    "    current_train_loss_sum = 0 # To accumulate training loss for the epoch\n",
    "    num_train_batches = 0 # To count batches for averaging loss\n",
    "\n",
    "    # --- Training Phase ---\n",
    "    model.train() # Set the model to training mode (important for BatchNorm and Dropout)\n",
    "    for b, (X_train, y_train) in enumerate(train_loader):\n",
    "        # Move inputs and labels to the configured device (GPU if available)\n",
    "        X_train, y_train = X_train.to(device), y_train.to(device)\n",
    "\n",
    "        y_pred = model(X_train)\n",
    "        loss = criterion(y_pred, y_train) # Compare predictions to correct answers\n",
    "        current_train_loss_sum += loss.item() # Accumulate scalar loss for averaging\n",
    "        num_train_batches += 1\n",
    "\n",
    "        predicted = torch.max(y_pred.data, 1)[1]\n",
    "        batch_corr = (predicted == y_train).sum()\n",
    "        trn_corr += batch_corr.item() # .item() to get scalar\n",
    "\n",
    "        # Update parameters\n",
    "        optimizer.zero_grad()\n",
    "        loss.backward()\n",
    "        optimizer.step()\n",
    "\n",
    "    train_losses.append(loss)\n",
    "    train_correct.append(trn_corr) \n",
    "\n",
    "    # --- Testing/Validation Phase ---\n",
    "    model.eval() # Set the model to evaluation mode (important for BatchNorm and Dropout)\n",
    "    with torch.no_grad(): # Disable gradient calculation for efficiency and accuracy\n",
    "        current_test_loss_sum = 0 # To accumulate test loss for the epoch\n",
    "        num_test_batches = 0 # To count batches for averaging loss\n",
    "        for b, (X_test, y_test) in enumerate(test_loader): # IMPORTANT: Ensure test_loader uses your actual test_data\n",
    "            # Move inputs and labels to the configured device (GPU if available)\n",
    "            X_test, y_test = X_test.to(device), y_test.to(device)\n",
    "\n",
    "            y_val = model(X_test)\n",
    "            loss_test = criterion(y_val, y_test) # Calculate loss for test set\n",
    "            current_test_loss_sum += loss_test.item()\n",
    "            num_test_batches += 1\n",
    "\n",
    "            predicted = torch.max(y_val.data, 1)[1]\n",
    "            tst_corr += (predicted == y_test).sum().item() # .item() to get scalar\n",
    "\n",
    "    # Append average test loss for the epoch\n",
    "    loss = criterion(y_val, y_test)\n",
    "    test_losses.append(loss)\n",
    "    test_correct.append(tst_corr)\n",
    "\n",
    "\n",
    "    if (i + 1) % 5 == 0: # Print every 5 epochs\n",
    "        # Print results at the end of each epoch, using the average test loss\n",
    "        print(f'Epoch {i+1}/{epochs}, Train Loss: {train_losses[-1]:.4f}, Test Loss: {test_losses[-1]:.4f}')"
   ]
  },
  {
   "cell_type": "markdown",
   "id": "751b320e",
   "metadata": {},
   "source": [
    "## Loss at each Epoch"
   ]
  },
  {
   "cell_type": "code",
   "execution_count": 49,
   "id": "8f6a42a3",
   "metadata": {},
   "outputs": [
    {
     "data": {
      "image/png": "[encoded data removed]",
      "text/plain": [
       "<Figure size 640x480 with 1 Axes>"
      ]
     },
     "metadata": {},
     "output_type": "display_data"
    }
   ],
   "source": [
    "# Handle mixed data types - tensors and floats\n",
    "train_losses = [tl.cpu().item() if hasattr(tl, 'cpu') else tl for tl in train_losses]\n",
    "test_losses = [tl.cpu().item() if hasattr(tl, 'cpu') else tl for tl in test_losses]\n",
    "\n",
    "# Graph loss at each epoch\n",
    "plt.plot(train_losses, label='Training Loss')\n",
    "plt.plot(test_losses, label='Testing Loss')\n",
    "plt.title('Loss at Each Epoch')\n",
    "plt.legend()\n",
    "plt.show()"
   ]
  },
  {
   "cell_type": "markdown",
   "id": "73f48e7b",
   "metadata": {},
   "source": [
    "# Accuracy at the end of each epoch"
   ]
  },
  {
   "cell_type": "code",
   "execution_count": 50,
   "id": "a0a7df48",
   "metadata": {},
   "outputs": [
    {
     "data": {
      "text/plain": [
       "<matplotlib.legend.Legend at 0x27fd3835730>"
      ]
     },
     "execution_count": 50,
     "metadata": {},
     "output_type": "execute_result"
    }
   ],
   "source": [
    "# Graph accuracy at the end of each epoch\n",
    "plt.plot([t/600 for t in train_correct], label='Training Accuracy')\n",
    "plt.plot([t/100 for t in test_correct], label='Validation Accuracy')\n",
    "plt.title('Accuracy at the end of each epoch')\n",
    "plt.legend()"
   ]
  },
  {
   "cell_type": "markdown",
   "id": "19669ea7",
   "metadata": {},
   "source": [
    "## Percentage of Accuracy"
   ]
  },
  {
   "cell_type": "code",
   "execution_count": 51,
   "id": "5fed8f45",
   "metadata": {},
   "outputs": [],
   "source": [
    "test_load_everything = DataLoader(test_data, batch_size=486, shuffle=False)"
   ]
  },
  {
   "cell_type": "code",
   "execution_count": 52,
   "id": "d1aa8095",
   "metadata": {},
   "outputs": [
    {
     "name": "stdout",
     "output_type": "stream",
     "text": [
      "Test Accuracy: 79.84%\n"
     ]
    }
   ],
   "source": [
    "with torch.no_grad():\n",
    "    correct = 0\n",
    "    total = 0\n",
    "    for X_test, y_test in test_load_everything:\n",
    "        # Move data to the same device as the model\n",
    "        X_test = X_test.to(device)\n",
    "        y_test = y_test.to(device)\n",
    "        \n",
    "        y_val = model(X_test)\n",
    "        predicted = torch.max(y_val, 1)[1]\n",
    "        correct += (predicted == y_test).sum()\n",
    "        total += y_test.size(0)\n",
    "    \n",
    "    accuracy = 100 * correct / total\n",
    "    print(f'Test Accuracy: {accuracy:.2f}%')"
   ]
  }
 ],
 "metadata": {
  "kernelspec": {
   "display_name": "base",
   "language": "python",
   "name": "python3"
  },
  "language_info": {
   "codemirror_mode": {
    "name": "ipython",
    "version": 3
   },
   "file_extension": ".py",
   "mimetype": "text/x-python",
   "name": "python",
   "nbconvert_exporter": "python",
   "pygments_lexer": "ipython3",
   "version": "3.12.7"
  }
 },
 "nbformat": 4,
 "nbformat_minor": 5
}
