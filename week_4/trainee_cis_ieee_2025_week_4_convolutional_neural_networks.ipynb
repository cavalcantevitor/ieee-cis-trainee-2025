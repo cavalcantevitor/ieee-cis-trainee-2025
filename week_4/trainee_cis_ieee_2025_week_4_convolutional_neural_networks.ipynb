{
 "cells": [
  {
   "cell_type": "markdown",
   "id": "99cf3cc9",
   "metadata": {},
   "source": [
    "# Week 4 - Convolutional Neural Networks"
   ]
  },
  {
   "cell_type": "markdown",
   "id": "9f887dfa",
   "metadata": {},
   "source": [
    "## Importing libraries and dependencies"
   ]
  },
  {
   "cell_type": "code",
   "execution_count": 81,
   "id": "00cfc37a",
   "metadata": {},
   "outputs": [],
   "source": [
    "import torch\n",
    "import torch.nn as nn\n",
    "import torch.nn.functional as F\n",
    "from torch.utils.data import DataLoader\n",
    "from torchvision.datasets import ImageFolder\n",
    "from torchvision import transforms\n",
    "\n",
    "import matplotlib.pyplot as plt\n",
    "%matplotlib inline"
   ]
  },
  {
   "cell_type": "markdown",
   "id": "dc8f642f",
   "metadata": {},
   "source": [
    "## Convert images into Tensors"
   ]
  },
  {
   "cell_type": "code",
   "execution_count": 82,
   "id": "5c43aa78",
   "metadata": {},
   "outputs": [],
   "source": [
    "transform = transforms.Compose([\n",
    "    transforms.RandomHorizontalFlip(),\n",
    "    transforms.RandomRotation(45),\n",
    "    transforms.RandomAutocontrast(),\n",
    "    transforms.ToTensor(),\n",
    "    transforms.Resize((64, 64)),\n",
    "])\n",
    "\n"
   ]
  },
  {
   "cell_type": "code",
   "execution_count": 83,
   "id": "0d46cc08",
   "metadata": {},
   "outputs": [],
   "source": [
    "train_data = ImageFolder(\n",
    "    \"clouds_dataset/clouds_train\",\n",
    "    transform = transform\n",
    ")"
   ]
  },
  {
   "cell_type": "code",
   "execution_count": 84,
   "id": "1fe6fb00",
   "metadata": {},
   "outputs": [
    {
     "data": {
      "text/plain": [
       "Dataset ImageFolder\n",
       "    Number of datapoints: 474\n",
       "    Root location: clouds_dataset/clouds_train\n",
       "    StandardTransform\n",
       "Transform: Compose(\n",
       "               RandomHorizontalFlip(p=0.5)\n",
       "               RandomRotation(degrees=[-45.0, 45.0], interpolation=nearest, expand=False, fill=0)\n",
       "               RandomAutocontrast(p=0.5)\n",
       "               ToTensor()\n",
       "               Resize(size=(64, 64), interpolation=bilinear, max_size=None, antialias=True)\n",
       "           )"
      ]
     },
     "execution_count": 84,
     "metadata": {},
     "output_type": "execute_result"
    }
   ],
   "source": [
    "train_data"
   ]
  },
  {
   "cell_type": "code",
   "execution_count": 85,
   "id": "fe802453",
   "metadata": {},
   "outputs": [],
   "source": [
    "test_data = ImageFolder(\n",
    "    \"clouds_dataset/clouds_test\",\n",
    "    transform = transform\n",
    ")"
   ]
  },
  {
   "cell_type": "code",
   "execution_count": 86,
   "id": "03ec79e6",
   "metadata": {},
   "outputs": [
    {
     "data": {
      "text/plain": [
       "Dataset ImageFolder\n",
       "    Number of datapoints: 486\n",
       "    Root location: clouds_dataset/clouds_test\n",
       "    StandardTransform\n",
       "Transform: Compose(\n",
       "               RandomHorizontalFlip(p=0.5)\n",
       "               RandomRotation(degrees=[-45.0, 45.0], interpolation=nearest, expand=False, fill=0)\n",
       "               RandomAutocontrast(p=0.5)\n",
       "               ToTensor()\n",
       "               Resize(size=(64, 64), interpolation=bilinear, max_size=None, antialias=True)\n",
       "           )"
      ]
     },
     "execution_count": 86,
     "metadata": {},
     "output_type": "execute_result"
    }
   ],
   "source": [
    "test_data"
   ]
  },
  {
   "cell_type": "markdown",
   "id": "01b756ce",
   "metadata": {},
   "source": [
    "## Creating loaders"
   ]
  },
  {
   "cell_type": "code",
   "execution_count": 87,
   "id": "18dc25c1",
   "metadata": {},
   "outputs": [],
   "source": [
    "train_loader = DataLoader(train_data, batch_size=32, shuffle=True)\n",
    "test_loader = DataLoader(test_data, batch_size=32, shuffle=False)"
   ]
  },
  {
   "cell_type": "markdown",
   "id": "a8883e30",
   "metadata": {},
   "source": [
    "## Creating the model class"
   ]
  },
  {
   "cell_type": "code",
   "execution_count": 88,
   "id": "5ee4c451",
   "metadata": {},
   "outputs": [],
   "source": [
    "class ConvolutionalNeuralNetwork(nn.Module):\n",
    "    def __init__(self, num_classes):\n",
    "        super().__init__()\n",
    "\n",
    "        # Locally connected layer  \n",
    "        self.conv1 = nn.Conv2d(in_channels=3, out_channels=32, kernel_size=3, stride=1, padding=1)\n",
    "        self.conv2 = nn.Conv2d(in_channels=32, out_channels=64, kernel_size=3, stride=1, padding=1)\n",
    "\n",
    "        # Fully connected layer\n",
    "        self.fc1 = nn.Linear(in_features=64 * 16 * 16, out_features=num_classes)\n",
    "\n",
    "    def forward(self, x):\n",
    "\n",
    "        x = F.relu(self.conv1(x))\n",
    "        x = F.max_pool2d(x, kernel_size=2, stride=2)\n",
    "\n",
    "        x = F.relu(self.conv2(x))\n",
    "        x = F.max_pool2d(x, kernel_size=2, stride=2)\n",
    "\n",
    "        x = x.view(-1, 64 * 16 * 16)\n",
    "\n",
    "        x = self.fc1(x)\n",
    "\n",
    "        return F.log_softmax(x, dim=1)"
   ]
  },
  {
   "cell_type": "markdown",
   "id": "7821155b",
   "metadata": {},
   "source": [
    "## Create an instance of the model"
   ]
  },
  {
   "cell_type": "code",
   "execution_count": 89,
   "id": "de6d4eb6",
   "metadata": {},
   "outputs": [
    {
     "name": "stdout",
     "output_type": "stream",
     "text": [
      "Classes found: ['cirriform clouds', 'clear sky', 'cumulonimbus clouds', 'cumulus clouds', 'high cumuliform clouds', 'stratiform clouds', 'stratocumulus clouds']\n",
      "Number of classes: 7\n"
     ]
    }
   ],
   "source": [
    "num_classes = len(train_data.classes)\n",
    "print(f\"Classes found: {train_data.classes}\")\n",
    "print(f\"Number of classes: {num_classes}\")"
   ]
  },
  {
   "cell_type": "code",
   "execution_count": 90,
   "id": "810308d5",
   "metadata": {},
   "outputs": [
    {
     "data": {
      "text/plain": [
       "ConvolutionalNeuralNetwork(\n",
       "  (conv1): Conv2d(3, 32, kernel_size=(3, 3), stride=(1, 1), padding=(1, 1))\n",
       "  (conv2): Conv2d(32, 64, kernel_size=(3, 3), stride=(1, 1), padding=(1, 1))\n",
       "  (fc1): Linear(in_features=16384, out_features=7, bias=True)\n",
       ")"
      ]
     },
     "execution_count": 90,
     "metadata": {},
     "output_type": "execute_result"
    }
   ],
   "source": [
    "torch.manual_seed(41)\n",
    "model = ConvolutionalNeuralNetwork(num_classes)\n",
    "model"
   ]
  },
  {
   "cell_type": "markdown",
   "id": "8b18f36f",
   "metadata": {},
   "source": [
    "## Define loss function optimizer"
   ]
  },
  {
   "cell_type": "code",
   "execution_count": 91,
   "id": "bfb38c9c",
   "metadata": {},
   "outputs": [],
   "source": [
    "criterion = nn.CrossEntropyLoss()\n",
    "optimizer = torch.optim.Adam(model.parameters(), lr=0.001)"
   ]
  },
  {
   "cell_type": "markdown",
   "id": "122589b1",
   "metadata": {},
   "source": [
    "## Train and Test"
   ]
  },
  {
   "cell_type": "code",
   "execution_count": null,
   "id": "d3c509d1",
   "metadata": {},
   "outputs": [
    {
     "name": "stdout",
     "output_type": "stream",
     "text": [
      "Epoch 1/10, Loss: 1.1598\n",
      "Epoch 2/10, Loss: 1.1588\n",
      "Epoch 3/10, Loss: 1.2560\n",
      "Epoch 4/10, Loss: 1.3124\n",
      "Epoch 5/10, Loss: 1.4915\n",
      "Epoch 6/10, Loss: 1.0617\n",
      "Epoch 7/10, Loss: 0.9673\n",
      "Epoch 8/10, Loss: 1.0951\n",
      "Epoch 9/10, Loss: 1.7678\n",
      "Epoch 10/10, Loss: 0.8983\n"
     ]
    }
   ],
   "source": [
    "epochs = 50\n",
    "train_losses = []\n",
    "test_losses = []\n",
    "train_correct = []\n",
    "test_correct = []\n",
    "\n",
    "# For loop of epochs\n",
    "for i in range(epochs):\n",
    "    trn_corr = 0\n",
    "    tst_corr = 0\n",
    "    current_train_loss = 0 # To accumulate training loss for the epoch\n",
    "\n",
    "    # Train\n",
    "    for b, (X_train, y_train) in enumerate(train_loader):\n",
    "        b += 1 # Start batches at 1\n",
    "        y_pred = model(X_train)\n",
    "        loss = criterion(y_pred, y_train) # Compare predictions to correct answers\n",
    "        current_train_loss += loss.item() # Accumulate loss\n",
    "\n",
    "        predicted = torch.max(y_pred.data, 1)[1]\n",
    "        batch_corr = (predicted == y_train).sum()\n",
    "        trn_corr += batch_corr\n",
    "\n",
    "        # Update parameters\n",
    "        optimizer.zero_grad()\n",
    "        loss.backward()\n",
    "        optimizer.step()\n",
    "\n",
    "    train_losses.append(loss)\n",
    "    train_correct.append(trn_corr) \n",
    "\n",
    "    # Test\n",
    "    with torch.no_grad(): # No gradient\n",
    "        current_test_loss = 0 # To accumulate test loss for the epoch\n",
    "        for b, (X_test, y_test) in enumerate(test_loader):\n",
    "            y_val = model(X_test)\n",
    "            loss_test = criterion(y_val, y_test) # Calculate loss for test set\n",
    "            current_test_loss += loss_test.item()\n",
    "\n",
    "            predicted = torch.max(y_val.data, 1)[1]\n",
    "            tst_corr += (predicted == y_test).sum()\n",
    "\n",
    "    # Average test loss for the epoch\n",
    "    loss = criterion(y_val, y_test)\n",
    "    test_losses.append(loss)\n",
    "    test_correct.append(tst_corr)\n",
    "\n",
    "    # Print results at the end of each epoch\n",
    "    print(f'Epoch {i+1}/{epochs}, Loss: {loss.item():.4f}')"
   ]
  },
  {
   "cell_type": "markdown",
   "id": "751b320e",
   "metadata": {},
   "source": [
    "## Loss at each Epoch"
   ]
  },
  {
   "cell_type": "code",
   "execution_count": 99,
   "id": "8f6a42a3",
   "metadata": {},
   "outputs": [
    {
     "data": {
      "text/plain": [
       "<matplotlib.legend.Legend at 0x1a20212c410>"
      ]
     },
     "execution_count": 99,
     "metadata": {},
     "output_type": "execute_result"
    },
    {
     "data": {
      "image/png": "[encoded data removed]",
      "text/plain": [
       "<Figure size 640x480 with 1 Axes>"
      ]
     },
     "metadata": {},
     "output_type": "display_data"
    }
   ],
   "source": [
    "# Transform tensors into a list\n",
    "train_losses = [tl.item() for tl in train_losses]\n",
    "\n",
    "# Graph loss at each epoch\n",
    "plt.plot(train_losses, label='Training Loss')\n",
    "plt.plot(test_losses, label='Testing Loss')\n",
    "plt.title('Loss at Each Epoch')\n",
    "plt.legend()"
   ]
  },
  {
   "cell_type": "markdown",
   "id": "73f48e7b",
   "metadata": {},
   "source": [
    "# Accuracy at the end of each epoch"
   ]
  },
  {
   "cell_type": "code",
   "execution_count": 100,
   "id": "a0a7df48",
   "metadata": {},
   "outputs": [
    {
     "data": {
      "text/plain": [
       "<matplotlib.legend.Legend at 0x1a202292ad0>"
      ]
     },
     "execution_count": 100,
     "metadata": {},
     "output_type": "execute_result"
    },
    {
     "data": {
      "image/png": "[encoded data removed]",
      "text/plain": [
       "<Figure size 640x480 with 1 Axes>"
      ]
     },
     "metadata": {},
     "output_type": "display_data"
    }
   ],
   "source": [
    "# Graph accuracy at the end of each epoch\n",
    "plt.plot([t/600 for t in train_correct], label='Training Accuracy')\n",
    "plt.plot([t/100 for t in test_correct], label='Validation Accuracy')\n",
    "plt.title('Accuracy at the end of each epoch')\n",
    "plt.legend()"
   ]
  },
  {
   "cell_type": "markdown",
   "id": "19669ea7",
   "metadata": {},
   "source": [
    "## Percentage of Accuracy"
   ]
  },
  {
   "cell_type": "code",
   "execution_count": 101,
   "id": "5fed8f45",
   "metadata": {},
   "outputs": [],
   "source": [
    "test_load_everything = DataLoader(test_data, batch_size=486, shuffle=False)"
   ]
  },
  {
   "cell_type": "code",
   "execution_count": 102,
   "id": "d1aa8095",
   "metadata": {},
   "outputs": [],
   "source": [
    "with torch.no_grad():\n",
    "  correct = 0\n",
    "  for X_test, y_test in test_load_everything:\n",
    "    y_val = model(X_test)\n",
    "    predicted = torch.max(y_val, 1)[1]\n",
    "    correct += (predicted == y_test).sum()"
   ]
  },
  {
   "cell_type": "code",
   "execution_count": 103,
   "id": "3abda260",
   "metadata": {},
   "outputs": [
    {
     "data": {
      "text/plain": [
       "0.4732510288065844"
      ]
     },
     "execution_count": 103,
     "metadata": {},
     "output_type": "execute_result"
    }
   ],
   "source": [
    "correct.item()/len(test_data)"
   ]
  }
 ],
 "metadata": {
  "kernelspec": {
   "display_name": "data_science",
   "language": "python",
   "name": "python3"
  },
  "language_info": {
   "codemirror_mode": {
    "name": "ipython",
    "version": 3
   },
   "file_extension": ".py",
   "mimetype": "text/x-python",
   "name": "python",
   "nbconvert_exporter": "python",
   "pygments_lexer": "ipython3",
   "version": "3.13.2"
  }
 },
 "nbformat": 4,
 "nbformat_minor": 5
}
