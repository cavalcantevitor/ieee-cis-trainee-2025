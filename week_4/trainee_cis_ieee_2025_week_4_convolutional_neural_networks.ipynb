{
 "cells": [
  {
   "cell_type": "markdown",
   "id": "99cf3cc9",
   "metadata": {},
   "source": [
    "# Week 4 - Convolutional Neural Networks"
   ]
  },
  {
   "cell_type": "markdown",
   "id": "9f887dfa",
   "metadata": {},
   "source": [
    "## Importing libraries and dependencies"
   ]
  },
  {
   "cell_type": "code",
   "execution_count": 155,
   "id": "00cfc37a",
   "metadata": {},
   "outputs": [],
   "source": [
    "import torch\n",
    "import torch.nn as nn\n",
    "import torch.nn.functional as F\n",
    "from torch.utils.data import DataLoader\n",
    "from torchvision.datasets import ImageFolder\n",
    "from torchvision import transforms\n",
    "\n",
    "import matplotlib.pyplot as plt\n",
    "%matplotlib inline"
   ]
  },
  {
   "cell_type": "markdown",
   "id": "dc8f642f",
   "metadata": {},
   "source": [
    "## Convert images into Tensors"
   ]
  },
  {
   "cell_type": "code",
   "execution_count": 156,
   "id": "5c43aa78",
   "metadata": {},
   "outputs": [],
   "source": [
    "transform = transforms.Compose([\n",
    "    transforms.RandomHorizontalFlip(),\n",
    "    transforms.RandomRotation(45),\n",
    "    transforms.RandomAutocontrast(),\n",
    "    transforms.Resize((64, 64)),\n",
    "    transforms.ToTensor(),\n",
    "])\n",
    "\n"
   ]
  },
  {
   "cell_type": "code",
   "execution_count": 157,
   "id": "0d46cc08",
   "metadata": {},
   "outputs": [],
   "source": [
    "train_data = ImageFolder(\n",
    "    \"clouds_dataset/clouds_train\",\n",
    "    transform = transform\n",
    ")"
   ]
  },
  {
   "cell_type": "code",
   "execution_count": 158,
   "id": "1fe6fb00",
   "metadata": {},
   "outputs": [
    {
     "data": {
      "text/plain": [
       "Dataset ImageFolder\n",
       "    Number of datapoints: 474\n",
       "    Root location: clouds_dataset/clouds_train\n",
       "    StandardTransform\n",
       "Transform: Compose(\n",
       "               RandomHorizontalFlip(p=0.5)\n",
       "               RandomRotation(degrees=[-45.0, 45.0], interpolation=nearest, expand=False, fill=0)\n",
       "               RandomAutocontrast(p=0.5)\n",
       "               Resize(size=(64, 64), interpolation=bilinear, max_size=None, antialias=True)\n",
       "               ToTensor()\n",
       "           )"
      ]
     },
     "execution_count": 158,
     "metadata": {},
     "output_type": "execute_result"
    }
   ],
   "source": [
    "train_data"
   ]
  },
  {
   "cell_type": "code",
   "execution_count": 159,
   "id": "fe802453",
   "metadata": {},
   "outputs": [],
   "source": [
    "test_data = ImageFolder(\n",
    "    \"clouds_dataset/clouds_test\",\n",
    "    transform = transform\n",
    ")"
   ]
  },
  {
   "cell_type": "code",
   "execution_count": 160,
   "id": "03ec79e6",
   "metadata": {},
   "outputs": [
    {
     "data": {
      "text/plain": [
       "Dataset ImageFolder\n",
       "    Number of datapoints: 486\n",
       "    Root location: clouds_dataset/clouds_test\n",
       "    StandardTransform\n",
       "Transform: Compose(\n",
       "               RandomHorizontalFlip(p=0.5)\n",
       "               RandomRotation(degrees=[-45.0, 45.0], interpolation=nearest, expand=False, fill=0)\n",
       "               RandomAutocontrast(p=0.5)\n",
       "               Resize(size=(64, 64), interpolation=bilinear, max_size=None, antialias=True)\n",
       "               ToTensor()\n",
       "           )"
      ]
     },
     "execution_count": 160,
     "metadata": {},
     "output_type": "execute_result"
    }
   ],
   "source": [
    "test_data"
   ]
  },
  {
   "cell_type": "markdown",
   "id": "01b756ce",
   "metadata": {},
   "source": [
    "## Creating loaders"
   ]
  },
  {
   "cell_type": "code",
   "execution_count": 161,
   "id": "18dc25c1",
   "metadata": {},
   "outputs": [],
   "source": [
    "train_loader = DataLoader(train_data, batch_size=32, shuffle=True)\n",
    "test_loader = DataLoader(test_data, batch_size=32, shuffle=False)"
   ]
  },
  {
   "cell_type": "markdown",
   "id": "a8883e30",
   "metadata": {},
   "source": [
    "## Creating the model class"
   ]
  },
  {
   "cell_type": "code",
   "execution_count": 162,
   "id": "5ee4c451",
   "metadata": {},
   "outputs": [],
   "source": [
    "import torch\n",
    "import torch.nn as nn\n",
    "import torch.nn.functional as F\n",
    "\n",
    "class ConvolutionalNeuralNetwork(nn.Module):\n",
    "    def __init__(self, num_classes):\n",
    "        \"\"\"\n",
    "        Initializes the ConvolutionalNeuralNetwork model.\n",
    "\n",
    "        This CNN is designed for image classification, featuring three convolutional\n",
    "        layers followed by batch normalization, ReLU activation, and max-pooling operations.\n",
    "        It concludes with a fully connected layer (with dropout) for classification.\n",
    "        It expects 64x64 pixel RGB images as input.\n",
    "\n",
    "        Args:\n",
    "            num_classes (int): The number of output classes for the classification task.\n",
    "                               This determines the size of the final fully connected layer's output.\n",
    "        \"\"\"\n",
    "        super().__init__()\n",
    "\n",
    "        # --- First convolutional block ---\n",
    "        # Input channels: 3 (for RGB images)\n",
    "        # Output channels: 32\n",
    "        self.conv1 = nn.Conv2d(in_channels=3, out_channels=32, kernel_size=3, stride=1, padding=1)\n",
    "        # Batch Normalization for the first conv layer's output\n",
    "        self.bn1 = nn.BatchNorm2d(32)\n",
    "\n",
    "        # --- Second convolutional block ---\n",
    "        # Input channels: 32 (output from conv1)\n",
    "        # Output channels: 64\n",
    "        self.conv2 = nn.Conv2d(in_channels=32, out_channels=64, kernel_size=3, stride=1, padding=1)\n",
    "        # Batch Normalization for the second conv layer's output\n",
    "        self.bn2 = nn.BatchNorm2d(64)\n",
    "\n",
    "        # --- Third convolutional block ---\n",
    "        # Input channels: 64 (output from conv2)\n",
    "        # Output channels: 128 (You can choose a different number here, often powers of 2)\n",
    "        self.conv3 = nn.Conv2d(in_channels=64, out_channels=128, kernel_size=3, stride=1, padding=1)\n",
    "        # Batch Normalization for the third conv layer's output\n",
    "        self.bn3 = nn.BatchNorm2d(128)\n",
    "\n",
    "        # --- Fully connected layer ---\n",
    "        # Recalculate the input features for the FC layer:\n",
    "        # Original input image size: 64x64\n",
    "\n",
    "        # After conv1 (3x3 kernel, stride=1, padding=1): size remains 64x64\n",
    "        # After first max_pool2d (kernel=2, stride=2): size becomes 64 / 2 = 32x32\n",
    "\n",
    "        # After conv2 (3x3 kernel, stride=1, padding=1): size remains 32x32\n",
    "        # After second max_pool2d (kernel=2, stride=2): size becomes 32 / 2 = 16x16\n",
    "\n",
    "        # After conv3 (3x3 kernel, stride=1, padding=1): size remains 16x16\n",
    "        # After third max_pool2d (kernel=2, stride=2): size becomes 16 / 2 = 8x8\n",
    "\n",
    "        # The number of input features for fc1 will be:\n",
    "        # final_out_channels_from_conv_block * final_feature_map_width * final_feature_map_height\n",
    "        # In this case: 128 * 8 * 8 = 8192\n",
    "        self.fc1 = nn.Linear(in_features=128 * 8 * 8, out_features=num_classes)\n",
    "\n",
    "        # --- Dropout layer ---\n",
    "        # Helps prevent overfitting by randomly setting a fraction of input units to zero\n",
    "        # during training. Common values are 0.25 to 0.5.\n",
    "        self.dropout = nn.Dropout(0.5)\n",
    "\n",
    "    def forward(self, x):\n",
    "        \"\"\"\n",
    "        Defines the forward pass of the ConvolutionalNeuralNetwork.\n",
    "\n",
    "        Args:\n",
    "            x (torch.Tensor): The input tensor, expected to be of shape\n",
    "                              (batch_size, 3, 64, 64) for RGB images.\n",
    "\n",
    "        Returns:\n",
    "            torch.Tensor: The log-softmax probabilities for each class,\n",
    "                          of shape (batch_size, num_classes).\n",
    "        \"\"\"\n",
    "        # --- First convolutional block ---\n",
    "        # Conv -> BatchNorm -> ReLU -> MaxPool\n",
    "        x = self.conv1(x)\n",
    "        x = self.bn1(x) # Apply Batch Normalization\n",
    "        x = F.relu(x)\n",
    "        x = F.max_pool2d(x, kernel_size=2, stride=2) # Spatial dimensions: 64x64 -> 32x32\n",
    "\n",
    "        # --- Second convolutional block ---\n",
    "        # Conv -> BatchNorm -> ReLU -> MaxPool\n",
    "        x = self.conv2(x)\n",
    "        x = self.bn2(x) # Apply Batch Normalization\n",
    "        x = F.relu(x)\n",
    "        x = F.max_pool2d(x, kernel_size=2, stride=2) # Spatial dimensions: 32x32 -> 16x16\n",
    "\n",
    "        # --- Third convolutional block ---\n",
    "        # Conv -> BatchNorm -> ReLU -> MaxPool\n",
    "        x = self.conv3(x)\n",
    "        x = self.bn3(x) # Apply Batch Normalization\n",
    "        x = F.relu(x)\n",
    "        x = F.max_pool2d(x, kernel_size=2, stride=2) # Spatial dimensions: 16x16 -> 8x8\n",
    "\n",
    "        # Flatten the feature maps into a 1D vector for the fully connected layer.\n",
    "        x = x.view(-1, 128 * 8 * 8)\n",
    "\n",
    "        # Apply Dropout before the final fully connected layer to prevent overfitting.\n",
    "        x = self.dropout(x)\n",
    "\n",
    "        # Apply the fully connected layer to produce raw class scores.\n",
    "        x = self.fc1(x)\n",
    "\n",
    "        # Apply log-softmax to get log-probabilities, typically used with NLLLoss or CrossEntropyLoss.\n",
    "        return F.log_softmax(x, dim=1)"
   ]
  },
  {
   "cell_type": "markdown",
   "id": "7821155b",
   "metadata": {},
   "source": [
    "## Create an instance of the model"
   ]
  },
  {
   "cell_type": "code",
   "execution_count": 163,
   "id": "de6d4eb6",
   "metadata": {},
   "outputs": [
    {
     "name": "stdout",
     "output_type": "stream",
     "text": [
      "Classes found: ['cirriform clouds', 'clear sky', 'cumulonimbus clouds', 'cumulus clouds', 'high cumuliform clouds', 'stratiform clouds', 'stratocumulus clouds']\n",
      "Number of classes: 7\n"
     ]
    }
   ],
   "source": [
    "num_classes = len(train_data.classes)\n",
    "print(f\"Classes found: {train_data.classes}\")\n",
    "print(f\"Number of classes: {num_classes}\")"
   ]
  },
  {
   "cell_type": "code",
   "execution_count": 164,
   "id": "810308d5",
   "metadata": {},
   "outputs": [
    {
     "data": {
      "text/plain": [
       "ConvolutionalNeuralNetwork(\n",
       "  (conv1): Conv2d(3, 32, kernel_size=(3, 3), stride=(1, 1), padding=(1, 1))\n",
       "  (bn1): BatchNorm2d(32, eps=1e-05, momentum=0.1, affine=True, track_running_stats=True)\n",
       "  (conv2): Conv2d(32, 64, kernel_size=(3, 3), stride=(1, 1), padding=(1, 1))\n",
       "  (bn2): BatchNorm2d(64, eps=1e-05, momentum=0.1, affine=True, track_running_stats=True)\n",
       "  (conv3): Conv2d(64, 128, kernel_size=(3, 3), stride=(1, 1), padding=(1, 1))\n",
       "  (bn3): BatchNorm2d(128, eps=1e-05, momentum=0.1, affine=True, track_running_stats=True)\n",
       "  (fc1): Linear(in_features=8192, out_features=7, bias=True)\n",
       "  (dropout): Dropout(p=0.5, inplace=False)\n",
       ")"
      ]
     },
     "execution_count": 164,
     "metadata": {},
     "output_type": "execute_result"
    }
   ],
   "source": [
    "torch.manual_seed(41)\n",
    "model = ConvolutionalNeuralNetwork(num_classes)\n",
    "model"
   ]
  },
  {
   "cell_type": "markdown",
   "id": "8b18f36f",
   "metadata": {},
   "source": [
    "## Define loss function optimizer"
   ]
  },
  {
   "cell_type": "code",
   "execution_count": null,
   "id": "bfb38c9c",
   "metadata": {},
   "outputs": [],
   "source": [
    "criterion = nn.CrossEntropyLoss()\n",
    "optimizer = torch.optim.Adam(model.parameters(), lr=0.0001)"
   ]
  },
  {
   "cell_type": "markdown",
   "id": "122589b1",
   "metadata": {},
   "source": [
    "## Train and Test"
   ]
  },
  {
   "cell_type": "code",
   "execution_count": 166,
   "id": "d3c509d1",
   "metadata": {},
   "outputs": [
    {
     "name": "stdout",
     "output_type": "stream",
     "text": [
      "Epoch 1/25, Loss: 1.1367\n",
      "Epoch 2/25, Loss: 1.4327\n",
      "Epoch 3/25, Loss: 1.6230\n",
      "Epoch 4/25, Loss: 3.6693\n",
      "Epoch 5/25, Loss: 2.7506\n",
      "Epoch 6/25, Loss: 4.4337\n",
      "Epoch 7/25, Loss: 3.6846\n",
      "Epoch 8/25, Loss: 2.5349\n",
      "Epoch 9/25, Loss: 3.6698\n",
      "Epoch 10/25, Loss: 4.5711\n",
      "Epoch 11/25, Loss: 5.5427\n",
      "Epoch 12/25, Loss: 3.6236\n",
      "Epoch 13/25, Loss: 6.4366\n",
      "Epoch 14/25, Loss: 5.4070\n",
      "Epoch 15/25, Loss: 2.1985\n",
      "Epoch 16/25, Loss: 4.3753\n",
      "Epoch 17/25, Loss: 4.5331\n",
      "Epoch 18/25, Loss: 5.7525\n",
      "Epoch 19/25, Loss: 2.9968\n",
      "Epoch 20/25, Loss: 4.1739\n",
      "Epoch 21/25, Loss: 4.0862\n",
      "Epoch 22/25, Loss: 4.5011\n",
      "Epoch 23/25, Loss: 2.4523\n",
      "Epoch 24/25, Loss: 4.3600\n",
      "Epoch 25/25, Loss: 3.7921\n"
     ]
    }
   ],
   "source": [
    "epochs = 25\n",
    "train_losses = []\n",
    "test_losses = []\n",
    "train_correct = []\n",
    "test_correct = []\n",
    "\n",
    "# For loop of epochs\n",
    "for i in range(epochs):\n",
    "    trn_corr = 0\n",
    "    tst_corr = 0\n",
    "    current_train_loss = 0 # To accumulate training loss for the epoch\n",
    "\n",
    "    # Train\n",
    "    for b, (X_train, y_train) in enumerate(train_loader):\n",
    "        b += 1 # Start batches at 1\n",
    "        y_pred = model(X_train)\n",
    "        loss = criterion(y_pred, y_train) # Compare predictions to correct answers\n",
    "        current_train_loss += loss.item() # Accumulate loss\n",
    "\n",
    "        predicted = torch.max(y_pred.data, 1)[1]\n",
    "        batch_corr = (predicted == y_train).sum()\n",
    "        trn_corr += batch_corr\n",
    "\n",
    "        # Update parameters\n",
    "        optimizer.zero_grad()\n",
    "        loss.backward()\n",
    "        optimizer.step()\n",
    "\n",
    "    train_losses.append(loss)\n",
    "    train_correct.append(trn_corr) \n",
    "\n",
    "    # Test\n",
    "    with torch.no_grad(): # No gradient\n",
    "        current_test_loss = 0 # To accumulate test loss for the epoch\n",
    "        for b, (X_test, y_test) in enumerate(test_loader):\n",
    "            y_val = model(X_test)\n",
    "            loss_test = criterion(y_val, y_test) # Calculate loss for test set\n",
    "            current_test_loss += loss_test.item()\n",
    "\n",
    "            predicted = torch.max(y_val.data, 1)[1]\n",
    "            tst_corr += (predicted == y_test).sum()\n",
    "\n",
    "    # Average test loss for the epoch\n",
    "    loss = criterion(y_val, y_test)\n",
    "    test_losses.append(loss)\n",
    "    test_correct.append(tst_corr)\n",
    "\n",
    "    # Print results at the end of each epoch\n",
    "    print(f'Epoch {i+1}/{epochs}, Loss: {loss.item():.4f}')"
   ]
  },
  {
   "cell_type": "markdown",
   "id": "751b320e",
   "metadata": {},
   "source": [
    "## Loss at each Epoch"
   ]
  },
  {
   "cell_type": "code",
   "execution_count": 167,
   "id": "8f6a42a3",
   "metadata": {},
   "outputs": [
    {
     "data": {
      "text/plain": [
       "<matplotlib.legend.Legend at 0x1a20250b9d0>"
      ]
     },
     "execution_count": 167,
     "metadata": {},
     "output_type": "execute_result"
    },
    {
     "data": {
      "image/png": "[encoded data removed]",
      "text/plain": [
       "<Figure size 640x480 with 1 Axes>"
      ]
     },
     "metadata": {},
     "output_type": "display_data"
    }
   ],
   "source": [
    "# Transform tensors into a list\n",
    "train_losses = [tl.item() for tl in train_losses]\n",
    "\n",
    "# Graph loss at each epoch\n",
    "plt.plot(train_losses, label='Training Loss')\n",
    "plt.plot(test_losses, label='Testing Loss')\n",
    "plt.title('Loss at Each Epoch')\n",
    "plt.legend()"
   ]
  },
  {
   "cell_type": "markdown",
   "id": "73f48e7b",
   "metadata": {},
   "source": [
    "# Accuracy at the end of each epoch"
   ]
  },
  {
   "cell_type": "code",
   "execution_count": 168,
   "id": "a0a7df48",
   "metadata": {},
   "outputs": [
    {
     "data": {
      "text/plain": [
       "<matplotlib.legend.Legend at 0x1a2037d7750>"
      ]
     },
     "execution_count": 168,
     "metadata": {},
     "output_type": "execute_result"
    },
    {
     "data": {
      "image/png": "[encoded data removed]",
      "text/plain": [
       "<Figure size 640x480 with 1 Axes>"
      ]
     },
     "metadata": {},
     "output_type": "display_data"
    }
   ],
   "source": [
    "# Graph accuracy at the end of each epoch\n",
    "plt.plot([t/600 for t in train_correct], label='Training Accuracy')\n",
    "plt.plot([t/100 for t in test_correct], label='Validation Accuracy')\n",
    "plt.title('Accuracy at the end of each epoch')\n",
    "plt.legend()"
   ]
  },
  {
   "cell_type": "markdown",
   "id": "19669ea7",
   "metadata": {},
   "source": [
    "## Percentage of Accuracy"
   ]
  },
  {
   "cell_type": "code",
   "execution_count": 169,
   "id": "5fed8f45",
   "metadata": {},
   "outputs": [],
   "source": [
    "test_load_everything = DataLoader(test_data, batch_size=486, shuffle=False)"
   ]
  },
  {
   "cell_type": "code",
   "execution_count": 170,
   "id": "d1aa8095",
   "metadata": {},
   "outputs": [],
   "source": [
    "with torch.no_grad():\n",
    "  correct = 0\n",
    "  for X_test, y_test in test_load_everything:\n",
    "    y_val = model(X_test)\n",
    "    predicted = torch.max(y_val, 1)[1]\n",
    "    correct += (predicted == y_test).sum()"
   ]
  },
  {
   "cell_type": "code",
   "execution_count": 171,
   "id": "3abda260",
   "metadata": {},
   "outputs": [
    {
     "data": {
      "text/plain": [
       "0.7263374485596708"
      ]
     },
     "execution_count": 171,
     "metadata": {},
     "output_type": "execute_result"
    }
   ],
   "source": [
    "correct.item()/len(test_data)"
   ]
  }
 ],
 "metadata": {
  "kernelspec": {
   "display_name": "data_science",
   "language": "python",
   "name": "python3"
  },
  "language_info": {
   "codemirror_mode": {
    "name": "ipython",
    "version": 3
   },
   "file_extension": ".py",
   "mimetype": "text/x-python",
   "name": "python",
   "nbconvert_exporter": "python",
   "pygments_lexer": "ipython3",
   "version": "3.13.2"
  }
 },
 "nbformat": 4,
 "nbformat_minor": 5
}
